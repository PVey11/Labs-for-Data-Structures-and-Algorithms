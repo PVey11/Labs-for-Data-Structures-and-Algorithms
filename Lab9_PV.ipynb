{
 "cells": [
  {
   "cell_type": "code",
   "execution_count": 1,
   "id": "04c6cbb1-8ddd-4334-92e2-7eafc4be4061",
   "metadata": {},
   "outputs": [
    {
     "name": "stdout",
     "output_type": "stream",
     "text": [
      "Adjacent vertices to node 2: [3, 5, 7, 5, 9, 4]\n",
      "Edge between nodes 1 and 2 exists: True\n",
      "Printing all vertices using BFS:\n",
      "1 2 3 5 7 9 4 8 6 10 \n"
     ]
    }
   ],
   "source": [
    "from collections import defaultdict, deque\n",
    "\n",
    "class Graph:\n",
    "    def __init__(self):\n",
    "        self.adjacency_list = defaultdict(list)\n",
    "    \n",
    "    def add_edge(self, origin, destination):\n",
    "        self.adjacency_list[origin].append(destination)\n",
    "    \n",
    "    def find_adjacent(self, node):\n",
    "        return self.adjacency_list[node]\n",
    "    \n",
    "    def edge_exists(self, origin, destination):\n",
    "        return destination in self.adjacency_list[origin]\n",
    "    \n",
    "    def bfs(self, start_node):\n",
    "        visited = set()\n",
    "        queue = deque([start_node])\n",
    "        while queue:\n",
    "            node = queue.popleft()\n",
    "            if node not in visited:\n",
    "                print(node, end=' ')\n",
    "                visited.add(node)\n",
    "                queue.extend(self.adjacency_list[node])\n",
    "        print()\n",
    "\n",
    "# Creating graph and adding edges\n",
    "graph = Graph()\n",
    "edges = [(1,2), (2,3), (4,5), (2,5), (6,2), (7,1), (10,2), (3,8), (2,7), (8,7), (8,2),\n",
    "         (10,4), (4,3), (3,6), (2,5), (2,9), (2,4), (5,1), (5,3), (5,9), (6,10), (7,4),\n",
    "         (7,10), (7,9), (10,2)]\n",
    "\n",
    "for edge in edges:\n",
    "    graph.add_edge(*edge)\n",
    "\n",
    "# Testing the functions\n",
    "print(\"Adjacent vertices to node 2:\", graph.find_adjacent(2))\n",
    "print(\"Edge between nodes 1 and 2 exists:\", graph.edge_exists(1, 2))\n",
    "\n",
    "print(\"Printing all vertices using BFS:\")\n",
    "graph.bfs(1)"
   ]
  },
  {
   "cell_type": "code",
   "execution_count": 4,
   "id": "32f80090-0176-4c45-8f94-a323497b6bd8",
   "metadata": {},
   "outputs": [
    {
     "name": "stdout",
     "output_type": "stream",
     "text": [
      "Printing all vertices using DFS:\n",
      "1 2 3 8 7 4 5 9 10 6 "
     ]
    }
   ],
   "source": [
    "class Graph:\n",
    "    def __init__(self):\n",
    "        self.adjacency_list = defaultdict(list)\n",
    "    \n",
    "    def add_edge(self, origin, destination):\n",
    "        self.adjacency_list[origin].append(destination)\n",
    "    \n",
    "    def find_adjacent(self, node):\n",
    "        return self.adjacency_list[node]\n",
    "    \n",
    "    def edge_exists(self, origin, destination):\n",
    "        return destination in self.adjacency_list[origin]\n",
    "    \n",
    "    def dfs(self, start_node, visited=None):\n",
    "        if visited is None:\n",
    "            visited = set()\n",
    "        visited.add(start_node)\n",
    "        print(start_node, end=' ')\n",
    "        for neighbor in self.adjacency_list[start_node]:\n",
    "            if neighbor not in visited:\n",
    "                self.dfs(neighbor, visited)\n",
    "\n",
    "# Creating graph and adding edges\n",
    "graph = Graph()\n",
    "edges = [(1,2), (2,3), (4,5), (2,5), (6,2), (7,1), (10,2), (3,8), (2,7), (8,7), (8,2),\n",
    "         (10,4), (4,3), (3,6), (2,5), (2,9), (2,4), (5,1), (5,3), (5,9), (6,10), (7,4),\n",
    "         (7,10), (7,9), (10,2)]\n",
    "\n",
    "for edge in edges:\n",
    "    graph.add_edge(*edge)\n",
    "\n",
    "# Printing all vertices using DFS\n",
    "print(\"Printing all vertices using DFS:\")\n",
    "graph.dfs(1)\n"
   ]
  },
  {
   "cell_type": "code",
   "execution_count": 6,
   "id": "ed3b693b-82bb-49cc-b399-c4eab0ffb4f4",
   "metadata": {},
   "outputs": [
    {
     "name": "stdout",
     "output_type": "stream",
     "text": [
      "Cliques in the graph:\n",
      "{1, 2, 5}\n",
      "{1, 2, 7}\n",
      "{8, 2, 3}\n",
      "{2, 3, 4, 5}\n",
      "{2, 3, 6}\n",
      "{2, 10, 4, 7}\n",
      "{9, 2, 5}\n",
      "{2, 10, 6}\n",
      "{8, 2, 7}\n",
      "{9, 2, 7}\n"
     ]
    }
   ],
   "source": [
    "class Graph:\n",
    "    def __init__(self):\n",
    "        self.adjacency_list = defaultdict(set)\n",
    "    \n",
    "    def add_edge(self, node1, node2):\n",
    "        self.adjacency_list[node1].add(node2)\n",
    "        self.adjacency_list[node2].add(node1)\n",
    "    \n",
    "    def bron_kerbosch(self, R, P, X, cliques):\n",
    "        if not P and not X:\n",
    "            cliques.append(R)\n",
    "            return\n",
    "        \n",
    "        for vertex in list(P):\n",
    "            self.bron_kerbosch(R.union({vertex}), P.intersection(self.adjacency_list[vertex]), X.intersection(self.adjacency_list[vertex]), cliques)\n",
    "            P.remove(vertex)\n",
    "            X.add(vertex)\n",
    "    \n",
    "    def find_cliques(self):\n",
    "        cliques = []\n",
    "        self.bron_kerbosch(set(), set(self.adjacency_list.keys()), set(), cliques)\n",
    "        return cliques\n",
    "\n",
    "# Create a graph and add edges\n",
    "graph = Graph()\n",
    "edges = [(1,2), (2,3), (4,5), (2,5), (6,2), (7,1), (10,2), (3,8), (2,7), (8,7), (8,2),\n",
    "         (10,4), (4,3), (3,6), (2,5), (2,9), (2,4), (5,1), (5,3), (5,9), (6,10), (7,4),\n",
    "         (7,10), (7,9), (10,2)]\n",
    "\n",
    "for edge in edges:\n",
    "    graph.add_edge(*edge)\n",
    "\n",
    "# Find and print all cliques\n",
    "cliques = graph.find_cliques()\n",
    "print(\"Cliques in the graph:\")\n",
    "for clique in cliques:\n",
    "    print(clique)\n"
   ]
  },
  {
   "cell_type": "code",
   "execution_count": null,
   "id": "71a1600c-5904-48c5-90db-acb239e96d52",
   "metadata": {},
   "outputs": [],
   "source": []
  }
 ],
 "metadata": {
  "kernelspec": {
   "display_name": "Python 3 (ipykernel)",
   "language": "python",
   "name": "python3"
  },
  "language_info": {
   "codemirror_mode": {
    "name": "ipython",
    "version": 3
   },
   "file_extension": ".py",
   "mimetype": "text/x-python",
   "name": "python",
   "nbconvert_exporter": "python",
   "pygments_lexer": "ipython3",
   "version": "3.12.0"
  }
 },
 "nbformat": 4,
 "nbformat_minor": 5
}
