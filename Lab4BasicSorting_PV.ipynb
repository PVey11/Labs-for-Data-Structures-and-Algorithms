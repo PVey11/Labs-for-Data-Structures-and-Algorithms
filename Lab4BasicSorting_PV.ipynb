{
 "cells": [
  {
   "cell_type": "code",
   "execution_count": 6,
   "id": "326518cb-5e9d-4f6e-b3a5-0122a03e03b0",
   "metadata": {},
   "outputs": [
    {
     "name": "stdout",
     "output_type": "stream",
     "text": [
      "Bubble Sorted List: [1, 2, 3, 4, 5, 6, 7, 8, 9, 10]\n"
     ]
    }
   ],
   "source": [
    "def bubble_sort(array):\n",
    "    n = len(array)\n",
    "\n",
    "    for i in range(n):\n",
    "        for j in range(0, n-i-1):\n",
    "            if array[j] > array[j+1]:\n",
    "                array[j], array[j+1] = array[j+1], array[j]\n",
    "\n",
    "my_list = [5,2,4,3,10,7,1,9,6,8]\n",
    "bubble_sort(my_list)\n",
    "\n",
    "print(\"Bubble Sorted List:\", my_list)\n",
    "    "
   ]
  },
  {
   "cell_type": "code",
   "execution_count": 7,
   "id": "e6cf6857-dd1d-4a48-82d8-b0d0085dbfc3",
   "metadata": {},
   "outputs": [
    {
     "name": "stdout",
     "output_type": "stream",
     "text": [
      "Extra Credit: ['apple', 'banana', 'cardamon', 'carrot', 'donut', 'mushrooms', 'pasta', 'taco']\n"
     ]
    }
   ],
   "source": [
    "new_list = ['banana','apple','carrot','cardamon','donut','taco','pasta','mushrooms']\n",
    "bubble_sort(new_list)\n",
    "\n",
    "print(\"Extra Credit:\", new_list)"
   ]
  },
  {
   "cell_type": "code",
   "execution_count": null,
   "id": "84640448-a13d-4c0c-ba69-78505c8b2be2",
   "metadata": {},
   "outputs": [],
   "source": []
  }
 ],
 "metadata": {
  "kernelspec": {
   "display_name": "Python 3 (ipykernel)",
   "language": "python",
   "name": "python3"
  },
  "language_info": {
   "codemirror_mode": {
    "name": "ipython",
    "version": 3
   },
   "file_extension": ".py",
   "mimetype": "text/x-python",
   "name": "python",
   "nbconvert_exporter": "python",
   "pygments_lexer": "ipython3",
   "version": "3.12.0"
  }
 },
 "nbformat": 4,
 "nbformat_minor": 5
}
