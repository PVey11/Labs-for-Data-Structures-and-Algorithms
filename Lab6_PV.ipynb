{
 "cells": [
  {
   "cell_type": "code",
   "execution_count": 1,
   "id": "d60f20bf-9126-440b-af16-944fe9739dc3",
   "metadata": {},
   "outputs": [
    {
     "ename": "SyntaxError",
     "evalue": "invalid syntax (3243038467.py, line 1)",
     "output_type": "error",
     "traceback": [
      "\u001b[0;36m  Cell \u001b[0;32mIn[1], line 1\u001b[0;36m\u001b[0m\n\u001b[0;31m    Basic Node definition. Each Node contains a Value, a left child, and a right child\u001b[0m\n\u001b[0m          ^\u001b[0m\n\u001b[0;31mSyntaxError\u001b[0m\u001b[0;31m:\u001b[0m invalid syntax\n"
     ]
    }
   ],
   "source": [
    "Basic Node definition. Each Node contains a Value, a left child, and a right child\n",
    "class Node:\n",
    "def __init__(self,value):\n",
    "self.left = None\n",
    "self.right = None\n",
    "self.val = value\n",
    "#insert Value into the appropiate spot in the tree\n",
    "def insert(root, node):\n",
    "if root is None:\n",
    "root=node\n",
    "elif root.val < node.val:\n",
    "if root.right is None:\n",
    "root.right = node\n",
    "else:\n",
    "insert(root.right, node)\n",
    "else:\n",
    "if root.left is None:\n",
    "root.left = node\n",
    "else:\n",
    "insert(root.left, node)\n",
    "def inorder_traversal(root):\n",
    "#finish code to print all values with an inorder traversal\n",
    "if root is not None:\n",
    "print(root.val)\n",
    "bst = Node(5)\n",
    "insert(bst,Node(2))\n",
    "insert(bst,Node(7))\n",
    "insert(bst,Node(10))\n",
    "insert(bst,Node(4))\n",
    "insert(bst,Node(1))\n",
    "inorder_traversal(bst)\n"
   ]
  },
  {
   "cell_type": "code",
   "execution_count": 2,
   "id": "4a8746ff-00fc-4bd1-8f8b-c8a6d4cf80aa",
   "metadata": {},
   "outputs": [
    {
     "name": "stdout",
     "output_type": "stream",
     "text": [
      "1\n",
      "2\n",
      "4\n",
      "5\n",
      "7\n",
      "10\n"
     ]
    }
   ],
   "source": [
    "class Node:\n",
    "    def __init__(self, value):\n",
    "        self.left = None\n",
    "        self.right = None\n",
    "        self.val = value\n",
    "\n",
    "def insert(root, node):\n",
    "    if root is None:\n",
    "        root = node\n",
    "    elif root.val < node.val:\n",
    "        if root.right is None:\n",
    "            root.right = node\n",
    "        else:\n",
    "            insert(root.right, node)\n",
    "    else:\n",
    "        if root.left is None:\n",
    "            root.left = node\n",
    "        else:\n",
    "            insert(root.left, node)\n",
    "\n",
    "def inorder_traversal(root):\n",
    "    if root:\n",
    "        inorder_traversal(root.left)\n",
    "        print(root.val)\n",
    "        inorder_traversal(root.right)\n",
    "\n",
    "bst = Node(5)\n",
    "insert(bst, Node(2))\n",
    "insert(bst, Node(7))\n",
    "insert(bst, Node(10))\n",
    "insert(bst, Node(4))\n",
    "insert(bst, Node(1))\n",
    "inorder_traversal(bst)"
   ]
  },
  {
   "cell_type": "code",
   "execution_count": null,
   "id": "93c76b55-b122-4711-8680-473cf495c9cb",
   "metadata": {},
   "outputs": [],
   "source": []
  }
 ],
 "metadata": {
  "kernelspec": {
   "display_name": "Python 3 (ipykernel)",
   "language": "python",
   "name": "python3"
  },
  "language_info": {
   "codemirror_mode": {
    "name": "ipython",
    "version": 3
   },
   "file_extension": ".py",
   "mimetype": "text/x-python",
   "name": "python",
   "nbconvert_exporter": "python",
   "pygments_lexer": "ipython3",
   "version": "3.12.0"
  }
 },
 "nbformat": 4,
 "nbformat_minor": 5
}
